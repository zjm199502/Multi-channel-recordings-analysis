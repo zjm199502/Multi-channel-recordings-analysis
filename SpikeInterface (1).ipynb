{
 "cells": [
  {
   "cell_type": "code",
   "execution_count": null,
   "id": "d9d5b976",
   "metadata": {},
   "outputs": [],
   "source": [
    "# # SpikeInterface v0.98\n",
    "# # 0. Preparation\n",
    "import spikeinterface.full as si\n",
    "from pathlib import Path\n",
    "import warnings\n",
    "warnings.simplefilter(\"ignore\")\n",
    "from probeinterface import read_prb"
   ]
  },
  {
   "cell_type": "code",
   "execution_count": null,
   "id": "05ecdc50",
   "metadata": {},
   "outputs": [],
   "source": [
    "print(f\"SpikeInterface version: {si.__version__}\")"
   ]
  },
  {
   "cell_type": "code",
   "execution_count": null,
   "id": "743f33cc",
   "metadata": {},
   "outputs": [],
   "source": [
    "# # 0.1. Setting parameters  # #\n",
    "base_folder = Path('/Users/zhangjinming/Documents/Open Ephys/2_2023-11-25_13-31-27')\n",
    "oe_folder = base_folder / 'Record Node 119'\n",
    "probe_folder = Path('/Users/zhangjinming/Documents/OpenEphys')\n",
    "Kedou16 = read_prb(probe_folder / '4X4_Kedoubc1to16.prb')\n",
    "freq_min = 300\n",
    "freq_max = 3000\n",
    "isi_viol_thresh = 0.2\n",
    "amp_cutoff_thresh = 0.5\n",
    "job_kwargs = dict(n_jobs=-1, chunk_duration=\"1s\", progress_bar=True)"
   ]
  },
  {
   "cell_type": "code",
   "execution_count": null,
   "id": "67a55dd6",
   "metadata": {},
   "outputs": [],
   "source": [
    "# # 1. Reading recording and sorting\n",
    "full_raw_rec = si.read_openephys(oe_folder)\n",
    "raw_rec = full_raw_rec.set_probegroup(Kedou16)\n",
    "probe_rec = raw_rec.get_probe()"
   ]
  },
  {
   "cell_type": "code",
   "execution_count": null,
   "id": "1c15a1f3",
   "metadata": {},
   "outputs": [],
   "source": [
    "# # 2. Preprocessing\n",
    "recording_f = si.bandpass_filter(raw_rec, freq_min=freq_min, freq_max=freq_max)\n",
    "recording_cmr = si.common_reference(recording_f, reference='global', operator='median')"
   ]
  },
  {
   "cell_type": "code",
   "execution_count": null,
   "id": "14b895b2",
   "metadata": {},
   "outputs": [],
   "source": [
    "# # 3. Saving and loading SpikeInterface objects\n",
    "if (base_folder / \"preprocessed\").is_dir():\n",
    "    recording_saved = si.load_extractor(base_folder / \"preprocessed\")\n",
    "else:\n",
    "     recording_saved = recording_cmr.save(folder=base_folder / \"preprocessed\", **job_kwargs)"
   ]
  },
  {
   "cell_type": "code",
   "execution_count": null,
   "id": "21bd4274",
   "metadata": {},
   "outputs": [],
   "source": [
    "# # 4. Spike sorting\n",
    "# We will sort the bandpass cached filtered recording the `recording_saved` object.\n",
    "get_default_params = si.get_default_sorter_params('spykingcircus2')\n",
    "si.get_default_sorter_params('spykingcircus2')\n",
    "# run spike sorting on entire recording\n",
    "sorting_SC2 = si.run_sorter('spykingcircus2', recording_saved,\n",
    "                            output_folder=base_folder / 'results_SC2',\n",
    "                            verbose=True,\n",
    "                            **get_default_params)\n",
    "sorting_SC2 = sorting_SC2.remove_empty_units()\n",
    "print(f'SC found {len(sorting_SC2.get_unit_ids())} non-empty units')\n",
    "sorting_saved_SC2 = sorting_SC2.save(folder=base_folder / \"sorting_SC2\")"
   ]
  },
  {
   "cell_type": "code",
   "execution_count": null,
   "id": "3a1440e9",
   "metadata": {},
   "outputs": [],
   "source": [
    "# # 5. Extracting waveforms\n",
    "# To extract the waveforms, we can run:\n",
    "recording_saved = si.load_extractor(base_folder / \"preprocessed\")\n",
    "sorting = sorting_SC2\n",
    "we = si.extract_waveforms(recording_saved, sorting, folder=base_folder / \"waveforms_dense\",\n",
    "                          sparse=False,\n",
    "                          overwrite=True, **job_kwargs)"
   ]
  },
  {
   "cell_type": "code",
   "execution_count": null,
   "id": "db14fdac",
   "metadata": {},
   "outputs": [],
   "source": [
    "# # 7. Quality metrics and curation\n",
    "# Let's see what metrics are available:\n",
    "#print(si.get_quality_metric_list())\n",
    "#print(si.get_quality_pca_metric_list())\n",
    "metric_names = si.get_quality_metric_list()\n",
    "qm = si.compute_quality_metrics(we, metric_names=metric_names, verbose=True, **job_kwargs)\n",
    "# ## Automatic curation based on quality metrics\n",
    "our_query = f\"amplitude_cutoff < {amp_cutoff_thresh} & isi_violations_ratio < {isi_viol_thresh}\"\n",
    "keep_units = qm.query(our_query)\n",
    "keep_unit_ids = keep_units.index.values"
   ]
  },
  {
   "cell_type": "code",
   "execution_count": null,
   "id": "bb7edcca",
   "metadata": {},
   "outputs": [],
   "source": [
    "sorting_auto_SC2= sorting.select_units(keep_unit_ids)\n",
    "print(f\"Number of units before curation: {len(sorting.get_unit_ids())}\")\n",
    "print(f\"Number of units after curation: {len(sorting_auto_SC2.get_unit_ids())}\")\n",
    "we_curated = we.select_units(keep_unit_ids, new_folder=base_folder / \"waveforms_curated\")"
   ]
  },
  {
   "cell_type": "code",
   "execution_count": null,
   "id": "64729618",
   "metadata": {},
   "outputs": [],
   "source": [
    "# # 10. Exporters\n",
    "# ## Export to Phy for manual curation\n",
    "# To perform manual curation we can export the data to [Phy](https://github.com/cortex-lab/phy). \n",
    "si.export_to_phy(we_curated, output_folder=base_folder / 'phy_SC2',\n",
    "                   compute_amplitudes=False, compute_pc_features=False, copy_binary=False,\n",
    "                   **job_kwargs)\n",
    "# After curating the results we can reload it using the `PhySortingExtractor`\n",
    "# and exclude the units that we labeled as `noise`:\n",
    "#sorting_phy_curated = se.PhySortingExtractor(base_folder / 'phy_KS25/', exclude_cluster_groups=['noise'])"
   ]
  },
  {
   "cell_type": "code",
   "execution_count": null,
   "id": "62af1e0f",
   "metadata": {},
   "outputs": [],
   "source": [
    "# ## Export a report to a folder\n",
    "si.export_report(we, output_folder=base_folder / 'report_SC')"
   ]
  }
 ],
 "metadata": {
  "jupytext": {
   "cell_metadata_filter": "-all",
   "main_language": "python",
   "notebook_metadata_filter": "-all"
  }
 },
 "nbformat": 4,
 "nbformat_minor": 5
}
